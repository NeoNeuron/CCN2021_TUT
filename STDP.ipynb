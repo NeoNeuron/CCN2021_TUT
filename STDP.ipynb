{
 "cells": [
  {
   "cell_type": "markdown",
   "metadata": {},
   "source": [
    "<a href=\"https://colab.research.google.com/github/NeoNeuron/CCN2021_TUT/blob/main/STDP.ipynb\" target=\"_blank\"><img alt=\"Open In Colab\" src=\"https://colab.research.google.com/assets/colab-badge.svg\"/></a>"
   ]
  },
  {
   "cell_type": "markdown",
   "metadata": {},
   "source": [
    "---\n",
    "# Spike Time Dependent Plasticity(STDP)\n",
    "\n",
    "**Content Creator:** Yuxiu Shao"
   ]
  },
  {
   "cell_type": "markdown",
   "metadata": {},
   "source": [
    "## Tutorial Objectives\n",
    "\n",
    "In this tutorial, we will focus on building a model of a synapse in which its synaptic strength changes as a function of the relative timing (i.e., time difference) between the spikes of the presynaptic and postsynaptic neurons, respectively. This change in the synaptic weight is known as **spike-timing dependent plasticity (STDP)**.\n",
    "\n",
    "Our goals for this tutorial are to:\n",
    "\n",
    "- build a model of synapse that show STDP\n",
    "\n",
    "- study how correlations in input spike trains influence the distribution of synaptic weights\n",
    "\n",
    "Towards these goals, we will model the presynaptic input as Poisson type spike trains. The postsynaptic neuron will be modeled as an LIF neuron (Done!).\n",
    "\n",
    "Throughout this tutorial, we assume that a single postsynaptic neuron is driven by $N$ presynaptic neurons. That is, there are $N$ synapses, and we will study how their weights depend on the statistics or the input spike trains and their timing with respect to the spikes of the postsynaptic neuron.\n"
   ]
  },
  {
   "cell_type": "code",
   "execution_count": 1,
   "metadata": {},
   "outputs": [],
   "source": [
    "# Import libraries\n",
    "import matplotlib.pyplot as plt\n",
    "import numpy as np"
   ]
  },
  {
   "cell_type": "code",
   "execution_count": 2,
   "metadata": {
    "cellView": "form",
    "tags": [
     "hide-input"
    ]
   },
   "outputs": [],
   "source": [
    "# @title Helper functions\n",
    "\n",
    "def default_pars_STDP(**kwargs):\n",
    "  pars = {}\n",
    "\n",
    "  # typical neuron parameters\n",
    "  pars['V_th'] = -55.     # spike threshold [mV]\n",
    "  pars['V_reset'] = -75.  # reset potential [mV]\n",
    "  pars['tau_m'] = 10.     # membrane time constant [ms]\n",
    "  pars['V_init'] = -65.   # initial potential [mV]\n",
    "  pars['V_L'] = -75.      # leak reversal potential [mV]\n",
    "  pars['tref'] = 2.       # refractory time (ms)\n",
    "\n",
    "  # STDP parameters\n",
    "  pars['A_plus'] = 0.008                   # magnitude of LTP\n",
    "  pars['A_minus'] = pars['A_plus'] * 1.10  # magnitude of LTD\n",
    "  pars['tau_stdp'] = 20.                   # STDP time constant [ms]\n",
    "\n",
    "  # simulation parameters\n",
    "  pars['T'] = 400.  # Total duration of simulation [ms]\n",
    "  pars['dt'] = .1   # Simulation time step [ms]\n",
    "\n",
    "  # external parameters if any\n",
    "  for k in kwargs:\n",
    "    pars[k] = kwargs[k]\n",
    "\n",
    "  pars['range_t'] = np.arange(0, pars['T'], pars['dt'])  # Vector of discretized time points [ms]\n",
    "\n",
    "  return pars\n",
    "\n",
    "\n",
    "def Poisson_generator(pars, rate, n, myseed=False):\n",
    "  \"\"\"Generates poisson trains\n",
    "\n",
    "  Args:\n",
    "    pars            : parameter dictionary\n",
    "    rate            : noise amplitute [Hz]\n",
    "    n               : number of Poisson trains\n",
    "    myseed          : random seed. int or boolean\n",
    "\n",
    "  Returns:\n",
    "    pre_spike_train : spike train matrix, ith row represents whether\n",
    "                      there is a spike in ith spike train over time\n",
    "                      (1 if spike, 0 otherwise)\n",
    "  \"\"\"\n",
    "\n",
    "  # Retrieve simulation parameters\n",
    "  dt, range_t = pars['dt'], pars['range_t']\n",
    "  Lt = range_t.size\n",
    "\n",
    "  # set random seed\n",
    "  if myseed:\n",
    "    np.random.seed(seed=myseed)\n",
    "  else:\n",
    "    np.random.seed()\n",
    "\n",
    "  # generate uniformly distributed random variables\n",
    "  u_rand = np.random.rand(n, Lt)\n",
    "\n",
    "  # generate Poisson train\n",
    "  poisson_train = 1. * (u_rand < rate * (dt / 1000.))\n",
    "\n",
    "  return poisson_train"
   ]
  },
  {
   "cell_type": "markdown",
   "metadata": {},
   "source": [
    "## Model of STDP\n",
    "### Bi, G.Q. and Poo, M.M., 1998. Synaptic modifications in cultured hippocampal neurons: dependence on spike timing, synaptic strength, and postsynaptic cell type. Journal of neuroscience, 18(24), pp.10464-10472. https://www.jneurosci.org/content/18/24/10464.abstract\n",
    "The phenomenology of STDP is generally described as a biphasic exponentially decaying function. That is, the instantaneous change in weights is given by:\n",
    "\n",
    "\\begin{eqnarray}\n",
    "& \\Delta W &=& A_+ e^{ (t_{pre}-t_{post})/\\tau_+}  & \\text{if} \\hspace{5mm}  t_{post} > t_{pre}& \\\\\n",
    "& \\Delta W &=& -A_- e^{- (t_{pre}-t_{post})/\\tau_-}   &\\text{if} \\hspace{5mm} t_{post} < t_{pre}& \\\\\n",
    "\\end{eqnarray}\n",
    "\n",
    "where $\\Delta W$ denotes the change in the synaptic weight, $A_+$ and $A_-$ determine the maxmimum amount of synaptic modification (which occurs when the timing difference between presynaptic and postsynaptic spikes is close to zero), $\\tau_+$ and $\\tau_-$ determine the ranges of pre-to-postsynaptic interspike intervals over which synaptic strengthening or weakening occurs. Thus, $\\Delta W > 0 $ means that postsynaptic neuron spikes after the presynaptic neuron.\n",
    "\n",
    "This model captures the phenomena that repeated occurrences of presynaptic spikes within a few milliseconds **before** postsynaptic action potentials lead to long-term potentiation (LTP) of the synapse, whereas repeated occurrences of presynaptic spikes **after** the postsynaptic ones lead to long-term depression (LTD) of the same synapse.\n",
    "\n",
    "The latency between presynaptic and postsynaptic spike ($\\Delta t$) is defined as:\n",
    "\n",
    "\\begin{eqnarray}\n",
    "\\Delta t = t_{\\rm pre} - t_{\\rm post}\n",
    "\\end{eqnarray}\n",
    "\n",
    "where $t_{\\rm pre}$ and $t_{\\rm post}$ are the timings of the presynaptic and postsynaptic spikes, respectively.\n"
   ]
  },
  {
   "cell_type": "code",
   "execution_count": 3,
   "metadata": {},
   "outputs": [],
   "source": [
    "def Delta_W(pars, time_diff, A_plus, A_minus, tau_stdp):\n",
    "  \"\"\"\n",
    "  Plot STDP biphasic exponential decaying function\n",
    "  Args:\n",
    "    pars       : parameter dictionary\n",
    "    time_diff  : time difference between pre and post spike times\n",
    "    A_plus     : (float) maxmimum amount of synaptic modification\n",
    "                 which occurs when the timing difference between pre- and\n",
    "                 post-synaptic spikes is positive\n",
    "    A_plus     : (float) maxmimum amount of synaptic modification\n",
    "                 which occurs when the timing difference between pre- and\n",
    "                 post-synaptic spikes is negative\n",
    "    tau_stdp   : the ranges of pre-to-postsynaptic interspike intervals\n",
    "                 over which synaptic strengthening or weakening occurs\n",
    "  Returns:\n",
    "    dW         : instantaneous change in weights\n",
    "  \"\"\"\n",
    "\n",
    "  # Fill in the code marked as (...)\n",
    "\n",
    "  # STDP change\n",
    "  dW = np.zeros(len(time_diff))\n",
    "  # Calculate dW for LTP (time difference < 0)\n",
    "  idxLTP = ...\n",
    "  dW[idxLTP] = ...\n",
    "  # Calculate dW for LTD (time difference > 0)\n",
    "  idxLTD = ...\n",
    "  dW[idxLTD] = ...\n",
    "\n",
    "  return dW\n",
    "\n",
    "pars = default_pars_STDP()\n",
    "# Get parameters\n",
    "A_plus, A_minus, tau_stdp = pars['A_plus'], pars['A_minus'], pars['tau_stdp']\n",
    "# pre_spike time - post_spike time\n",
    "time_diff = np.linspace(-5 * tau_stdp, 5 * tau_stdp, 50)\n",
    "\n",
    "# Uncomment to test your function\n",
    "# dW = Delta_W(pars, time_diff, A_plus, A_minus, tau_stdp)\n",
    "# fig,ax = plt.subplots(figsize=(4,4))\n",
    "# ax.scatter(time_diff, dW)\n",
    "# ax.axvline(c='grey', lw=1)\n",
    "# ax.axhline(c='grey', lw=1)"
   ]
  },
  {
   "cell_type": "markdown",
   "metadata": {},
   "source": [
    "### Example"
   ]
  },
  {
   "cell_type": "code",
   "execution_count": 5,
   "metadata": {
    "cellView": "form"
   },
   "outputs": [
    {
     "data": {
      "text/plain": [
       "<matplotlib.lines.Line2D at 0x7f9ce8efe890>"
      ]
     },
     "execution_count": 5,
     "metadata": {},
     "output_type": "execute_result"
    },
    {
     "data": {
      "image/png": "[encoded data removed]",
      "text/plain": [
       "<Figure size 288x288 with 1 Axes>"
      ]
     },
     "metadata": {
      "needs_background": "light"
     },
     "output_type": "display_data"
    }
   ],
   "source": [
    "#@title Click to reveal answer example\n",
    "def Delta_W(pars, time_diff, A_plus, A_minus, tau_stdp):\n",
    "  \"\"\"\n",
    "  Plot STDP biphasic exponential decaying function\n",
    "  Args:\n",
    "    pars       : parameter dictionary\n",
    "    time_diff  : time difference between pre and post spike times\n",
    "    A_plus     : (float) maxmimum amount of synaptic modification\n",
    "                 which occurs when the timing difference between pre- and\n",
    "                 post-synaptic spikes is positive\n",
    "    A_plus     : (float) maxmimum amount of synaptic modification\n",
    "                 which occurs when the timing difference between pre- and\n",
    "                 post-synaptic spikes is negative\n",
    "    tau_stdp   : the ranges of pre-to-postsynaptic interspike intervals\n",
    "                 over which synaptic strengthening or weakening occurs\n",
    "  Returns:\n",
    "    dW         : instantaneous change in weights\n",
    "  \"\"\"\n",
    "\n",
    "  # STDP change\n",
    "  dW = np.zeros(len(time_diff))\n",
    "  # Calculate dW for LTP\n",
    "  idxLTP = np.where(time_diff<=0)\n",
    "  dW[idxLTP] = A_plus * np.exp(time_diff[idxLTP] / tau_stdp)\n",
    "  # Calculate dW for LTD\n",
    "  idxLTD = np.where(time_diff>0)\n",
    "  dW[idxLTD] = -A_minus * np.exp(-time_diff[idxLTD] / tau_stdp)\n",
    "\n",
    "  return dW\n",
    "\n",
    "\n",
    "pars = default_pars_STDP()\n",
    "# Get parameters\n",
    "A_plus, A_minus, tau_stdp = pars['A_plus'], pars['A_minus'], pars['tau_stdp']\n",
    "# pre_spike time - post_spike time\n",
    "time_diff = np.linspace(-5 * tau_stdp, 5 * tau_stdp, 50)\n",
    "\n",
    "# Uncomment to test your function\n",
    "dW = Delta_W(pars, time_diff, A_plus, A_minus, tau_stdp)\n",
    "fig,ax = plt.subplots(figsize=(4,4))\n",
    "ax.scatter(time_diff, dW)\n",
    "ax.axvline(c='grey', lw=1)\n",
    "ax.axhline(c='grey', lw=1)"
   ]
  }
 ],
 "metadata": {
  "interpreter": {
   "hash": "5fb195aca1cc4b04f6bd75bcd75eff5c6dace3e009d2ff2dc9cbbb35b653d43e"
  },
  "kernelspec": {
   "display_name": "Python 3.8.3 64-bit ('base': conda)",
   "name": "python3"
  },
  "language_info": {
   "codemirror_mode": {
    "name": "ipython",
    "version": 3
   },
   "file_extension": ".py",
   "mimetype": "text/x-python",
   "name": "python",
   "nbconvert_exporter": "python",
   "pygments_lexer": "ipython3",
   "version": "3.8.3"
  }
 },
 "nbformat": 4,
 "nbformat_minor": 2
}
