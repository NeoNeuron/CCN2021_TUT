{
 "cells": [
  {
   "cell_type": "markdown",
   "metadata": {},
   "source": [
    "<a href=\"https://colab.research.google.com/github/NeoNeuron/CCN2021_TUT/blob/main/dipde_EI.ipynb\" target=\"_blank\"><img alt=\"Open In Colab\" src=\"https://colab.research.google.com/assets/colab-badge.svg\"/></a>"
   ]
  },
  {
   "cell_type": "markdown",
   "metadata": {},
   "source": [
    "---\n",
    "# DiPDE Example: Excitatory and Inhibitory\n"
   ]
  },
  {
   "cell_type": "code",
   "execution_count": null,
   "metadata": {
    "cellView": "form",
    "id": "8gc_I4kd8T8w"
   },
   "outputs": [],
   "source": [
    "#@title Install `dipde` package\n",
    "# @markdown install packages to visualize brains and electrode locations\n",
    "!pip install git+https://github.com/AllenInstitute/dipde.git --user --quiet"
   ]
  },
  {
   "cell_type": "code",
   "execution_count": 1,
   "metadata": {},
   "outputs": [],
   "source": [
    "## Copyright 2013 Allen Institute\n",
    "# This file is part of dipde\n",
    "# dipde is free software: you can redistribute it and/or modify\n",
    "# it under the terms of the GNU General Public License as published by\n",
    "# the Free Software Foundation, either version 3 of the License, or\n",
    "# (at your option) any later version.\n",
    "# \n",
    "# dipde is distributed in the hope that it will be useful,\n",
    "# but WITHOUT ANY WARRANTY; without even the implied warranty of\n",
    "# MERCHANTABILITY or FITNESS FOR A PARTICULAR PURPOSE.  See the\n",
    "# GNU General Public License for more details.\n",
    "# \n",
    "# You should have received a copy of the GNU General Public License\n",
    "# along with dipde.  If not, see <http://www.gnu.org/licenses/>.\n",
    "\n",
    "import matplotlib.pyplot as plt\n",
    "from dipde.internals.internalpopulation import InternalPopulation\n",
    "from dipde.internals.externalpopulation import ExternalPopulation\n",
    "from dipde.internals.network import Network\n",
    "from dipde.internals.connection import Connection as Connection\n",
    "import scipy.stats as sps\n",
    "\n",
    "def get_network(dv=.001, verbose=False, update_method='approx', approx_order=1, tol=1e-14):\n",
    "\n",
    "    # Create network:\n",
    "    b1 = ExternalPopulation('100')\n",
    "    i1 = InternalPopulation(v_min=-.02, v_max=.02, dv=dv, update_method=update_method, approx_order=approx_order, tol=tol)\n",
    "    b1_i1 = Connection(b1, i1, 1, weights=.005, delays=([.005, .01],[.5,.5]))\n",
    "    b1_i1_2 = Connection(b1, i1, 1, weights=-.005, delays=sps.uniform(0,.01))\n",
    "    network = Network([b1, i1], [b1_i1, b1_i1_2])\n",
    "    \n",
    "    return network\n",
    "\n",
    "\n",
    "def example(show=True, save=False):\n",
    "\n",
    "    # Settings:\n",
    "    t0 = 0.\n",
    "    dt = .0001\n",
    "    dv = .0001\n",
    "    tf = .1\n",
    "    verbose = True\n",
    "    update_method = 'approx'\n",
    "    approx_order = 1\n",
    "    tol = 1e-14\n",
    "    \n",
    "    # Run simulation:\n",
    "    network = get_network(dv=dv, verbose=verbose, update_method=update_method, approx_order=approx_order, tol=tol)\n",
    "    network.run(dt=dt, tf=tf, t0=t0)\n",
    "\n",
    "    i1 = network.population_list[1]\n",
    "    if show == True:\n",
    "\n",
    "        # Visualize:\n",
    "        plt.figure(figsize=(3,3))\n",
    "        plt.plot(i1.t_record, i1.firing_rate_record)\n",
    "        plt.xlim([0,tf])\n",
    "        plt.ylim(ymin=0)\n",
    "        plt.xlabel('Time (s)')\n",
    "        plt.ylabel('Firing Rate (Hz)')\n",
    "        plt.tight_layout()\n",
    "\n",
    "        if save == True: plt.savefig('./excitatory_inhibitory.png')\n",
    "        plt.show()\n",
    "    \n",
    "    return i1.t_record, i1.firing_rate_record\n",
    "    "
   ]
  },
  {
   "cell_type": "code",
   "execution_count": 2,
   "metadata": {},
   "outputs": [
    {
     "data": {
      "image/png": "[encoded data removed]",
      "text/plain": [
       "<Figure size 216x216 with 1 Axes>"
      ]
     },
     "metadata": {
      "needs_background": "light"
     },
     "output_type": "display_data"
    }
   ],
   "source": [
    "t_record, firing_record = example(show=True)"
   ]
  }
 ],
 "metadata": {
  "colab": {
   "collapsed_sections": [],
   "name": "dipde-tutorial.ipynb",
   "provenance": []
  },
  "kernelspec": {
   "display_name": "Python 3",
   "name": "python3"
  },
  "language_info": {
   "name": "python"
  }
 },
 "nbformat": 4,
 "nbformat_minor": 2
}
